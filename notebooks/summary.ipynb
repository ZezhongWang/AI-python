{
 "cells": [
  {
   "cell_type": "markdown",
   "metadata": {},
   "source": [
    "# Search Methods\n",
    "## Description\n",
    "### Type I - Informed search: search directed toward goal states\n",
    "\n",
    "#### Greedy Best-First Search\n",
    "\n",
    "#### A∗\n",
    "\n",
    "#### WA*\n",
    "\n",
    "#### IDA∗\n",
    "\n",
    "#### (Stochastic) local search\n",
    "\n",
    "### Type II - Un-informed search\n",
    "#### Breadth-First Search (BFS)\n",
    "\n",
    "#### Depth-First Search (DFS)\n",
    "\n",
    "## Features in Summary"
   ]
  }
 ],
 "metadata": {
  "language_info": {
   "name": "python"
  },
  "orig_nbformat": 4
 },
 "nbformat": 4,
 "nbformat_minor": 2
}
